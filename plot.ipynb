{
 "cells": [
  {
   "cell_type": "code",
   "execution_count": 1,
   "metadata": {},
   "outputs": [],
   "source": [
    "import itertools\n",
    "import json\n",
    "\n",
    "with open(\".asv/results/benchmarks.json\") as f:\n",
    "    benchmarks = json.load(f)\n",
    "\n",
    "with open(\n",
    "    \".asv/results/li-7d1035cc-1f16-11b2-a85c-8530f9357908.ibm.com/machine.json\"\n",
    ") as f:\n",
    "    machine = json.load(f)\n",
    "\n",
    "with open(\n",
    "    \".asv/results/li-7d1035cc-1f16-11b2-a85c-8530f9357908.ibm.com/7de6a34f-env-2926a93da429bc9414eb12395eaa6358.json\"\n",
    ") as f:\n",
    "    data = json.load(f)"
   ]
  },
  {
   "cell_type": "code",
   "execution_count": 2,
   "metadata": {},
   "outputs": [
    {
     "name": "stdout",
     "output_type": "stream",
     "text": [
      "fermion_operator.FermionOperatorBenchmark.time_normal_order\n",
      "fermion_operator.FermionOperatorBenchmark.time_normal_order_openfermion\n",
      "gates.GatesBenchmark.time_apply_diag_coulomb_evolution\n",
      "gates.GatesBenchmark.time_apply_givens_rotation\n",
      "gates.GatesBenchmark.time_apply_num_interaction\n",
      "gates.GatesBenchmark.time_apply_num_num_interaction\n",
      "gates.GatesBenchmark.time_apply_num_op_prod_interaction\n",
      "gates.GatesBenchmark.time_apply_num_op_sum_evolution\n",
      "gates.GatesBenchmark.time_apply_orbital_rotation_givens\n",
      "gates.GatesBenchmark.time_apply_orbital_rotation_givens_fqe\n",
      "gates.GatesBenchmark.time_apply_orbital_rotation_givens_qiskit\n",
      "gates.GatesBenchmark.time_apply_orbital_rotation_lu\n",
      "gates.GatesBenchmark.time_apply_tunneling_interaction\n",
      "gates.GatesBenchmark.time_quad_ham_evolution\n",
      "gates.GatesBenchmark.time_quad_ham_evolution_fqe\n",
      "gates.GatesBenchmark.time_quad_ham_evolution_qiskit\n",
      "trotter.TrotterBenchmark.time_simulate_trotter_double_factorized\n",
      "trotter.TrotterBenchmark.time_simulate_trotter_double_factorized_fqe\n",
      "trotter.TrotterBenchmark.time_simulate_trotter_double_factorized_qiskit\n"
     ]
    }
   ],
   "source": [
    "result_columns = data[\"result_columns\"]\n",
    "results = data[\"results\"]\n",
    "\n",
    "for k in results:\n",
    "    print(k)"
   ]
  },
  {
   "cell_type": "code",
   "execution_count": 3,
   "metadata": {},
   "outputs": [],
   "source": [
    "# Orbital rotation, Givens\n",
    "\n",
    "benchmark_names = {\n",
    "    \"ffsim\": \"gates.GatesBenchmark.time_apply_orbital_rotation_givens\",\n",
    "    \"FQE\": \"gates.GatesBenchmark.time_apply_orbital_rotation_givens_fqe\",\n",
    "    \"Qiskit\": \"gates.GatesBenchmark.time_apply_orbital_rotation_givens_qiskit\",\n",
    "}\n",
    "benchmark_results = {}\n",
    "for label, benchmark_name in benchmark_names.items():\n",
    "    these_results = dict(zip(result_columns, results[benchmark_name]))\n",
    "    benchmark_results[label] = dict(\n",
    "        zip(itertools.product(*these_results[\"params\"]), these_results[\"result\"])\n",
    "    )"
   ]
  }
 ],
 "metadata": {
  "kernelspec": {
   "display_name": "ffsim-benchmark-Q-BRZCBz",
   "language": "python",
   "name": "python3"
  },
  "language_info": {
   "codemirror_mode": {
    "name": "ipython",
    "version": 3
   },
   "file_extension": ".py",
   "mimetype": "text/x-python",
   "name": "python",
   "nbconvert_exporter": "python",
   "pygments_lexer": "ipython3",
   "version": "3.10.13"
  }
 },
 "nbformat": 4,
 "nbformat_minor": 2
}
